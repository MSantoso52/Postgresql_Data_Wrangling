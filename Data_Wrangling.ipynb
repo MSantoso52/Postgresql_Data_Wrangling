{
 "cells": [
  {
   "cell_type": "markdown",
   "id": "53c9aa95-6564-4e28-99ac-daef7e91657d",
   "metadata": {},
   "source": [
    "# PostgreSQL Data Wrangling"
   ]
  },
  {
   "cell_type": "markdown",
   "id": "1ede8199-c9ba-4f4d-9444-c9c570aa9923",
   "metadata": {},
   "source": [
    "# *Import Necessary Library*"
   ]
  },
  {
   "cell_type": "code",
   "execution_count": 1,
   "id": "5203d03c-5435-418e-b4de-f6d0b8aaadcb",
   "metadata": {},
   "outputs": [],
   "source": [
    "import json\n",
    "import psycopg2\n",
    "from psycopg2 import extras"
   ]
  },
  {
   "cell_type": "markdown",
   "id": "73e297f0-4a1e-40a0-b468-09ee1e9f99d3",
   "metadata": {},
   "source": [
    "# *Define Database Parameter*"
   ]
  },
  {
   "cell_type": "code",
   "execution_count": 2,
   "id": "c0adc20b-382f-4b9e-8a9d-40fc848bb7dc",
   "metadata": {},
   "outputs": [],
   "source": [
    "DB_NAME=\"sales_db\"\n",
    "DB_USER=\"postgres\"\n",
    "DB_PASSWORD=\"duckdb\"\n",
    "DB_HOST=\"0.0.0.0\"\n",
    "DB_PORT=\"5432\""
   ]
  },
  {
   "cell_type": "markdown",
   "id": "ed3527c1-bbfd-4448-ab2e-c9d0cd0d6f93",
   "metadata": {},
   "source": [
    "# *Create Postgresql Connection*"
   ]
  },
  {
   "cell_type": "code",
   "execution_count": 118,
   "id": "1f3dbfab-ce49-4a06-b447-ddff4df2899e",
   "metadata": {},
   "outputs": [
    {
     "name": "stdout",
     "output_type": "stream",
     "text": [
      "Database connection successful\n"
     ]
    }
   ],
   "source": [
    "try:\n",
    "    # Connect to your PostgreSQL database\n",
    "    conn = psycopg2.connect(\n",
    "            dbname=DB_NAME,\n",
    "            user=DB_USER,\n",
    "            password=DB_PASSWORD,\n",
    "            host=DB_HOST,\n",
    "            port=DB_PORT\n",
    "        )\n",
    "    cur = conn.cursor()\n",
    "    print(\"Database connection successful\")\n",
    "except (psycopg2.OperationalError, psycopg2.DatabaseError, FileNotFoundError) as e:\n",
    "        print(f\"An error occurred: {e}\")"
   ]
  },
  {
   "cell_type": "markdown",
   "id": "07f1b95a-78ac-4bd7-b324-b99386ffb0cd",
   "metadata": {},
   "source": [
    "# *SQL statement to insert a new record*"
   ]
  },
  {
   "cell_type": "code",
   "execution_count": 4,
   "id": "e6b86cdf-7325-4fc6-963d-e6b98715efb2",
   "metadata": {},
   "outputs": [],
   "source": [
    "insert_sql = \"\"\"\n",
    "            INSERT INTO records (\n",
    "                order_id, item_name, quantity, price_per_unit, total_price, order_date, region, payment_method, notes,\n",
    "                customer_id, customer_email, customer_age, customer_street, customer_city, customer_zip, status\n",
    "            ) VALUES (\n",
    "                %s, %s, %s, %s, %s, %s, %s, %s, %s, %s, %s, %s, %s, %s, %s, %s\n",
    "            );\n",
    "        \"\"\""
   ]
  },
  {
   "cell_type": "markdown",
   "id": "b6683cb0-3bec-4ddf-85f4-66dad6202289",
   "metadata": {},
   "source": [
    "# *Open and load the JSON data from the file*"
   ]
  },
  {
   "cell_type": "code",
   "execution_count": 5,
   "id": "ac8e2940-9dee-41e1-beb1-5709ce4d66fb",
   "metadata": {},
   "outputs": [],
   "source": [
    "with open('sales_record.json', 'r') as f:\n",
    "            data = json.load(f)"
   ]
  },
  {
   "cell_type": "markdown",
   "id": "001b5148-0a13-4796-a4d8-c6206a8d6665",
   "metadata": {},
   "source": [
    "# *Iterate over each record in the JSON data* "
   ]
  },
  {
   "cell_type": "code",
   "execution_count": 6,
   "id": "b49e0855-1a54-42bb-bd39-1269132ef7ab",
   "metadata": {},
   "outputs": [
    {
     "name": "stdout",
     "output_type": "stream",
     "text": [
      "Data imported successfully!\n"
     ]
    }
   ],
   "source": [
    "for record in data:\n",
    "    # Extract customer information\n",
    "    customer_info = record.get('customer_info', {})\n",
    "    customer_address = customer_info.get('address', {})\n",
    "\n",
    "    # Handle the 'total_price' field which can be a string with a '$'\n",
    "    total_price = record.get('total_price')\n",
    "    if isinstance(total_price, str) and '$' in total_price:\n",
    "        total_price = float(total_price.replace('$', ''))\n",
    "\n",
    "    # Prepare the data for insertion.\n",
    "    # You must ensure the order and types match your SQL statement and table.\n",
    "    record_values = (\n",
    "        record.get('order_id'),\n",
    "        record.get('item_name'),\n",
    "        record.get('quantity'),\n",
    "        record.get('price_per_unit'),\n",
    "        total_price,\n",
    "        record.get('order_date'),\n",
    "        record.get('region'),\n",
    "        record.get('payment_method'),\n",
    "        record.get('notes'),\n",
    "        customer_info.get('customer_id'),\n",
    "        customer_info.get('email'),\n",
    "        customer_info.get('age'),\n",
    "        customer_address.get('street'),\n",
    "        customer_address.get('city'),\n",
    "        customer_address.get('zip'),\n",
    "        record.get('status')\n",
    "        )\n",
    "    # Insert the record into the database\n",
    "    cur.execute(insert_sql, record_values)\n",
    "\n",
    "# Commit the changes and close the connection\n",
    "conn.commit()\n",
    "print(\"Data imported successfully!\")"
   ]
  },
  {
   "cell_type": "markdown",
   "id": "8904db6e-8b66-435e-978a-3168c677c629",
   "metadata": {},
   "source": [
    "# *Checking importing result*"
   ]
  },
  {
   "cell_type": "code",
   "execution_count": 7,
   "id": "0e5d4a54-c96d-4688-9893-b93e064aa2c6",
   "metadata": {},
   "outputs": [
    {
     "name": "stdout",
     "output_type": "stream",
     "text": [
      "('ORD-0001', 'Headphones', 4, Decimal('1015.74'), Decimal('4062.96'), datetime.date(2024, 9, 3), 'West', 'Bank Transfer', 'CUST-3916', 'johnny89@example.org', None, '537 Main St', 'Harrelltown', 65592, 'Pending', None)\n"
     ]
    }
   ],
   "source": [
    "my_query = ''' SELECT * from records limit(5) '''\n",
    "\n",
    "cur.execute(my_query)\n",
    "data = cur.fetchall()\n",
    "print(data[0])"
   ]
  },
  {
   "cell_type": "markdown",
   "id": "c5d6843b-6344-4b45-90a0-e9d41dd9f0d2",
   "metadata": {},
   "source": [
    "# *--- Data Observation ----*"
   ]
  },
  {
   "cell_type": "code",
   "execution_count": 8,
   "id": "8ffea8da-9515-434e-a98c-65933d8007bc",
   "metadata": {},
   "outputs": [
    {
     "data": {
      "text/html": [
       "<div>\n",
       "<style scoped>\n",
       "    .dataframe tbody tr th:only-of-type {\n",
       "        vertical-align: middle;\n",
       "    }\n",
       "\n",
       "    .dataframe tbody tr th {\n",
       "        vertical-align: top;\n",
       "    }\n",
       "\n",
       "    .dataframe thead th {\n",
       "        text-align: right;\n",
       "    }\n",
       "</style>\n",
       "<table border=\"1\" class=\"dataframe\">\n",
       "  <thead>\n",
       "    <tr style=\"text-align: right;\">\n",
       "      <th></th>\n",
       "      <th>order_id</th>\n",
       "      <th>item_name</th>\n",
       "      <th>quantity</th>\n",
       "      <th>price_per_unit</th>\n",
       "      <th>total_price</th>\n",
       "      <th>order_date</th>\n",
       "      <th>region</th>\n",
       "      <th>payment_method</th>\n",
       "      <th>customer_id</th>\n",
       "      <th>customer_email</th>\n",
       "      <th>customer_age</th>\n",
       "      <th>customer_street</th>\n",
       "      <th>customer_city</th>\n",
       "      <th>customer_zip</th>\n",
       "      <th>status</th>\n",
       "      <th>notes</th>\n",
       "    </tr>\n",
       "  </thead>\n",
       "  <tbody>\n",
       "    <tr>\n",
       "      <th>0</th>\n",
       "      <td>ORD-0001</td>\n",
       "      <td>Headphones</td>\n",
       "      <td>4</td>\n",
       "      <td>1015.74</td>\n",
       "      <td>4062.96</td>\n",
       "      <td>2024-09-03</td>\n",
       "      <td>West</td>\n",
       "      <td>Bank Transfer</td>\n",
       "      <td>CUST-3916</td>\n",
       "      <td>johnny89@example.org</td>\n",
       "      <td>NaN</td>\n",
       "      <td>537 Main St</td>\n",
       "      <td>Harrelltown</td>\n",
       "      <td>65592</td>\n",
       "      <td>Pending</td>\n",
       "      <td>None</td>\n",
       "    </tr>\n",
       "    <tr>\n",
       "      <th>1</th>\n",
       "      <td>ORD-0002</td>\n",
       "      <td>SSD</td>\n",
       "      <td>10</td>\n",
       "      <td>952.47</td>\n",
       "      <td>9524.70</td>\n",
       "      <td>2024-12-12</td>\n",
       "      <td>South</td>\n",
       "      <td>Credit Card</td>\n",
       "      <td>CUST-6310</td>\n",
       "      <td>brenda92@example.com</td>\n",
       "      <td>32.0</td>\n",
       "      <td>152 Main St</td>\n",
       "      <td>Rebeccahaven</td>\n",
       "      <td>67092</td>\n",
       "      <td>Pending</td>\n",
       "      <td>Special handling required</td>\n",
       "    </tr>\n",
       "    <tr>\n",
       "      <th>2</th>\n",
       "      <td>ORD-0003</td>\n",
       "      <td>Monitor</td>\n",
       "      <td>5</td>\n",
       "      <td>678.01</td>\n",
       "      <td>3390.05</td>\n",
       "      <td>2024-10-25</td>\n",
       "      <td>West</td>\n",
       "      <td>Bank Transfer</td>\n",
       "      <td>CUST-1522</td>\n",
       "      <td>heatherbarnett@example.org</td>\n",
       "      <td>23.0</td>\n",
       "      <td>77 Main St</td>\n",
       "      <td>Port Yolandamouth</td>\n",
       "      <td>60182</td>\n",
       "      <td>Refunded</td>\n",
       "      <td>None</td>\n",
       "    </tr>\n",
       "    <tr>\n",
       "      <th>3</th>\n",
       "      <td>ORD-0004</td>\n",
       "      <td>Webcam</td>\n",
       "      <td>10</td>\n",
       "      <td>365.39</td>\n",
       "      <td>3653.90</td>\n",
       "      <td>2025-05-01</td>\n",
       "      <td>South</td>\n",
       "      <td>Cash</td>\n",
       "      <td>CUST-8180</td>\n",
       "      <td>lorraineprice@example.net</td>\n",
       "      <td>29.0</td>\n",
       "      <td>509 Main St</td>\n",
       "      <td>Gailmouth</td>\n",
       "      <td>59580</td>\n",
       "      <td>Cancelled</td>\n",
       "      <td>None</td>\n",
       "    </tr>\n",
       "    <tr>\n",
       "      <th>4</th>\n",
       "      <td>ORD-0005</td>\n",
       "      <td>SSD</td>\n",
       "      <td>3</td>\n",
       "      <td>249.20</td>\n",
       "      <td>747.60</td>\n",
       "      <td>2024-12-12</td>\n",
       "      <td>West</td>\n",
       "      <td>Crypto</td>\n",
       "      <td>CUST-8477</td>\n",
       "      <td>michaeljohnson@example.org</td>\n",
       "      <td>55.0</td>\n",
       "      <td>154 Main St</td>\n",
       "      <td>East Tinaside</td>\n",
       "      <td>45643</td>\n",
       "      <td>Pending</td>\n",
       "      <td>None</td>\n",
       "    </tr>\n",
       "  </tbody>\n",
       "</table>\n",
       "</div>"
      ],
      "text/plain": [
       "   order_id   item_name  quantity price_per_unit total_price  order_date  \\\n",
       "0  ORD-0001  Headphones         4        1015.74     4062.96  2024-09-03   \n",
       "1  ORD-0002         SSD        10         952.47     9524.70  2024-12-12   \n",
       "2  ORD-0003     Monitor         5         678.01     3390.05  2024-10-25   \n",
       "3  ORD-0004      Webcam        10         365.39     3653.90  2025-05-01   \n",
       "4  ORD-0005         SSD         3         249.20      747.60  2024-12-12   \n",
       "\n",
       "  region payment_method customer_id              customer_email  customer_age  \\\n",
       "0   West  Bank Transfer   CUST-3916        johnny89@example.org           NaN   \n",
       "1  South    Credit Card   CUST-6310        brenda92@example.com          32.0   \n",
       "2   West  Bank Transfer   CUST-1522  heatherbarnett@example.org          23.0   \n",
       "3  South           Cash   CUST-8180   lorraineprice@example.net          29.0   \n",
       "4   West         Crypto   CUST-8477  michaeljohnson@example.org          55.0   \n",
       "\n",
       "  customer_street      customer_city  customer_zip     status  \\\n",
       "0     537 Main St        Harrelltown         65592    Pending   \n",
       "1     152 Main St       Rebeccahaven         67092    Pending   \n",
       "2      77 Main St  Port Yolandamouth         60182   Refunded   \n",
       "3     509 Main St          Gailmouth         59580  Cancelled   \n",
       "4     154 Main St      East Tinaside         45643    Pending   \n",
       "\n",
       "                       notes  \n",
       "0                       None  \n",
       "1  Special handling required  \n",
       "2                       None  \n",
       "3                       None  \n",
       "4                       None  "
      ]
     },
     "execution_count": 8,
     "metadata": {},
     "output_type": "execute_result"
    }
   ],
   "source": [
    "import pandas as pd\n",
    "\n",
    "columns = [desc[0] for desc in cur.description]\n",
    "df = pd.DataFrame(data, columns = columns)\n",
    "df.head()"
   ]
  },
  {
   "cell_type": "code",
   "execution_count": 9,
   "id": "8cd62c8b-9a4d-401a-b4f1-4fb756619d0c",
   "metadata": {},
   "outputs": [
    {
     "name": "stdout",
     "output_type": "stream",
     "text": [
      "<class 'pandas.core.frame.DataFrame'>\n",
      "RangeIndex: 5 entries, 0 to 4\n",
      "Data columns (total 16 columns):\n",
      " #   Column           Non-Null Count  Dtype  \n",
      "---  ------           --------------  -----  \n",
      " 0   order_id         5 non-null      object \n",
      " 1   item_name        5 non-null      object \n",
      " 2   quantity         5 non-null      int64  \n",
      " 3   price_per_unit   5 non-null      object \n",
      " 4   total_price      5 non-null      object \n",
      " 5   order_date       5 non-null      object \n",
      " 6   region           5 non-null      object \n",
      " 7   payment_method   5 non-null      object \n",
      " 8   customer_id      5 non-null      object \n",
      " 9   customer_email   5 non-null      object \n",
      " 10  customer_age     4 non-null      float64\n",
      " 11  customer_street  5 non-null      object \n",
      " 12  customer_city    5 non-null      object \n",
      " 13  customer_zip     5 non-null      int64  \n",
      " 14  status           5 non-null      object \n",
      " 15  notes            1 non-null      object \n",
      "dtypes: float64(1), int64(2), object(13)\n",
      "memory usage: 772.0+ bytes\n"
     ]
    }
   ],
   "source": [
    "df.info()"
   ]
  },
  {
   "cell_type": "markdown",
   "id": "47abfa9f-ae5e-410e-b40f-0f0d359198eb",
   "metadata": {},
   "source": [
    "# *Checking duplicate value*"
   ]
  },
  {
   "cell_type": "code",
   "execution_count": 10,
   "id": "da97e875-f508-4b36-9d3e-8642c012491c",
   "metadata": {},
   "outputs": [],
   "source": [
    "duplicate_order_id = '''\n",
    "    SELECT  order_id, COUNT(order_id) \n",
    "    FROM sales_records\n",
    "    GROUP BY order_id\n",
    "    HAVING COUNT(order_id) > 1;\n",
    "'''"
   ]
  },
  {
   "cell_type": "code",
   "execution_count": 11,
   "id": "9eb5cc76-94e4-45fc-852b-356d9298e7bb",
   "metadata": {},
   "outputs": [
    {
     "name": "stdout",
     "output_type": "stream",
     "text": [
      "No duplicate found on order_id\n"
     ]
    }
   ],
   "source": [
    "cur.execute(duplicate_order_id)\n",
    "duplicates = cur.fetchall()\n",
    "if duplicates:\n",
    "    print(\"Duplicate order_id found\")\n",
    "else:\n",
    "    print(\"No duplicate found on order_id\")"
   ]
  },
  {
   "cell_type": "markdown",
   "id": "5888df98-ba5c-43e7-bbbd-5304372e2597",
   "metadata": {},
   "source": [
    "# *Column value not Null*"
   ]
  },
  {
   "cell_type": "code",
   "execution_count": 75,
   "id": "199198dd-68a2-4cb2-a3ca-563b1f893ad2",
   "metadata": {},
   "outputs": [],
   "source": [
    "def check_for_none(cursor, table_name, column_name):\n",
    "    query = f\"SELECT * FROM {table_name} WHERE {column_name} IS NULL;\"\n",
    "    print(f\"Executing {query}\")\n",
    "    cursor.execute(query)\n",
    "    result = cursor.fetchall()\n",
    "    if result:\n",
    "        print(f\"Found NULL on {column_name}\")\n",
    "    else:\n",
    "        print(f\"Not found NULL on {column_name}\")"
   ]
  },
  {
   "cell_type": "code",
   "execution_count": 13,
   "id": "99ef77a5-f7ac-4a50-a26a-79e545133e19",
   "metadata": {},
   "outputs": [
    {
     "name": "stdout",
     "output_type": "stream",
     "text": [
      "Executing SELECT * FROM records WHERE customer_age IS NULL;\n",
      "Found NULL on customer_age\n"
     ]
    }
   ],
   "source": [
    "ages = check_for_none(cur, \"records\", \"customer_age\")\n",
    "ages"
   ]
  },
  {
   "cell_type": "code",
   "execution_count": 14,
   "id": "57211845-840d-4bb4-becd-03b96fda9684",
   "metadata": {},
   "outputs": [
    {
     "name": "stdout",
     "output_type": "stream",
     "text": [
      "Executing SELECT * FROM records WHERE notes IS NULL;\n",
      "Found NULL on notes\n"
     ]
    }
   ],
   "source": [
    "notes = check_for_none(cur, \"records\", \"notes\")\n",
    "notes"
   ]
  },
  {
   "cell_type": "code",
   "execution_count": 15,
   "id": "5024717c-1d8e-4444-b1a8-3cc9983e14c0",
   "metadata": {},
   "outputs": [],
   "source": [
    "#columns"
   ]
  },
  {
   "cell_type": "code",
   "execution_count": 79,
   "id": "0edbc98d-c95c-42b9-9397-77d626175fa3",
   "metadata": {},
   "outputs": [],
   "source": [
    "def null_check(cursor=cur, table_name=\"records\", column_name=None):\n",
    "    query = f\"SELECT * FROM {table_name} WHERE {column_name} IS NULL;\"\n",
    "    cursor.execute(query)\n",
    "    result = cursor.fetchall()\n",
    "    if result:        \n",
    "        return \"Found\"\n",
    "    else:\n",
    "        return \"Not Found\""
   ]
  },
  {
   "cell_type": "code",
   "execution_count": 17,
   "id": "19e617f7-cb31-4afb-a8ba-6076e05c6c76",
   "metadata": {},
   "outputs": [],
   "source": [
    "results = [null_check(column_name=col) for col in columns]\n",
    "#results"
   ]
  },
  {
   "cell_type": "markdown",
   "id": "ebc01de4-2117-4812-a981-9d582ecdf010",
   "metadata": {},
   "source": [
    "# *Create dictionary to see result*"
   ]
  },
  {
   "cell_type": "code",
   "execution_count": 18,
   "id": "c5e3e28e-1007-4fab-8b80-34ba8f7cbcd5",
   "metadata": {},
   "outputs": [
    {
     "data": {
      "text/plain": [
       "{'order_id': ['Not Found'],\n",
       " 'item_name': ['Not Found'],\n",
       " 'quantity': ['Not Found'],\n",
       " 'price_per_unit': ['Not Found'],\n",
       " 'total_price': ['Not Found'],\n",
       " 'order_date': ['Not Found'],\n",
       " 'region': ['Not Found'],\n",
       " 'payment_method': ['Found'],\n",
       " 'customer_id': ['Not Found'],\n",
       " 'customer_email': ['Not Found'],\n",
       " 'customer_age': ['Found'],\n",
       " 'customer_street': ['Not Found'],\n",
       " 'customer_city': ['Not Found'],\n",
       " 'customer_zip': ['Not Found'],\n",
       " 'status': ['Not Found'],\n",
       " 'notes': ['Found']}"
      ]
     },
     "execution_count": 18,
     "metadata": {},
     "output_type": "execute_result"
    }
   ],
   "source": [
    "dict_null = {col:[val] for col,val in zip(columns, results)}\n",
    "dict_null"
   ]
  },
  {
   "cell_type": "code",
   "execution_count": 19,
   "id": "6ee5831a-e39d-4b06-83a6-14d91e8ddf28",
   "metadata": {},
   "outputs": [
    {
     "data": {
      "text/html": [
       "<div>\n",
       "<style scoped>\n",
       "    .dataframe tbody tr th:only-of-type {\n",
       "        vertical-align: middle;\n",
       "    }\n",
       "\n",
       "    .dataframe tbody tr th {\n",
       "        vertical-align: top;\n",
       "    }\n",
       "\n",
       "    .dataframe thead th {\n",
       "        text-align: right;\n",
       "    }\n",
       "</style>\n",
       "<table border=\"1\" class=\"dataframe\">\n",
       "  <thead>\n",
       "    <tr style=\"text-align: right;\">\n",
       "      <th></th>\n",
       "      <th>order_id</th>\n",
       "      <th>item_name</th>\n",
       "      <th>quantity</th>\n",
       "      <th>price_per_unit</th>\n",
       "      <th>total_price</th>\n",
       "      <th>order_date</th>\n",
       "      <th>region</th>\n",
       "      <th>payment_method</th>\n",
       "      <th>customer_id</th>\n",
       "      <th>customer_email</th>\n",
       "      <th>customer_age</th>\n",
       "      <th>customer_street</th>\n",
       "      <th>customer_city</th>\n",
       "      <th>customer_zip</th>\n",
       "      <th>status</th>\n",
       "      <th>notes</th>\n",
       "    </tr>\n",
       "  </thead>\n",
       "  <tbody>\n",
       "    <tr>\n",
       "      <th>0</th>\n",
       "      <td>Not Found</td>\n",
       "      <td>Not Found</td>\n",
       "      <td>Not Found</td>\n",
       "      <td>Not Found</td>\n",
       "      <td>Not Found</td>\n",
       "      <td>Not Found</td>\n",
       "      <td>Not Found</td>\n",
       "      <td>Found</td>\n",
       "      <td>Not Found</td>\n",
       "      <td>Not Found</td>\n",
       "      <td>Found</td>\n",
       "      <td>Not Found</td>\n",
       "      <td>Not Found</td>\n",
       "      <td>Not Found</td>\n",
       "      <td>Not Found</td>\n",
       "      <td>Found</td>\n",
       "    </tr>\n",
       "  </tbody>\n",
       "</table>\n",
       "</div>"
      ],
      "text/plain": [
       "    order_id  item_name   quantity price_per_unit total_price order_date  \\\n",
       "0  Not Found  Not Found  Not Found      Not Found   Not Found  Not Found   \n",
       "\n",
       "      region payment_method customer_id customer_email customer_age  \\\n",
       "0  Not Found          Found   Not Found      Not Found        Found   \n",
       "\n",
       "  customer_street customer_city customer_zip     status  notes  \n",
       "0       Not Found     Not Found    Not Found  Not Found  Found  "
      ]
     },
     "execution_count": 19,
     "metadata": {},
     "output_type": "execute_result"
    }
   ],
   "source": [
    "null_check_df = pd.DataFrame(dict_null)\n",
    "null_check_df"
   ]
  },
  {
   "cell_type": "code",
   "execution_count": 33,
   "id": "2f644f0c-35be-470a-bd12-c195a6064b7b",
   "metadata": {},
   "outputs": [
    {
     "data": {
      "text/plain": [
       "[('Bank Transfer', 222),\n",
       " ('Crypto', 208),\n",
       " ('Credit Card', 205),\n",
       " ('PayPal', 178),\n",
       " ('Cash', 167),\n",
       " (None, 0)]"
      ]
     },
     "execution_count": 33,
     "metadata": {},
     "output_type": "execute_result"
    }
   ],
   "source": [
    "payment_null = '''SELECT payment_method, COUNT(payment_method) FROM records\n",
    "                GROUP BY payment_method ORDER BY COUNT(payment_method) DESC;\n",
    "                '''\n",
    "\n",
    "cur.execute(payment_null)\n",
    "payment_null_result = cur.fetchall()\n",
    "payment_null_result"
   ]
  },
  {
   "cell_type": "code",
   "execution_count": 39,
   "id": "66c82f91-7dc1-475c-8011-e937f06993f4",
   "metadata": {},
   "outputs": [
    {
     "data": {
      "text/plain": [
       "[('Special handling required', 87), (None, 0)]"
      ]
     },
     "execution_count": 39,
     "metadata": {},
     "output_type": "execute_result"
    }
   ],
   "source": [
    "notes_null = '''SELECT notes, COUNT(notes) FROM records \n",
    "            GROUP BY notes ORDER BY COUNT(notes) DESC;\n",
    "            '''\n",
    "\n",
    "cur.execute(notes_null)\n",
    "notes_null_result = cur.fetchall()\n",
    "notes_null_result"
   ]
  },
  {
   "cell_type": "code",
   "execution_count": 44,
   "id": "fcc35505-584c-4588-934a-bf95291eaaf3",
   "metadata": {},
   "outputs": [
    {
     "data": {
      "text/plain": [
       "[(892,)]"
      ]
     },
     "execution_count": 44,
     "metadata": {},
     "output_type": "execute_result"
    }
   ],
   "source": [
    "age_null = '''SELECT COUNT(customer_age) FROM records\n",
    "            WHERE customer_age IS NOT NULL;\n",
    "            '''\n",
    "\n",
    "cur.execute(age_null)\n",
    "age_null_result = cur.fetchall()\n",
    "age_null_result"
   ]
  },
  {
   "cell_type": "markdown",
   "id": "ff83098c-4a60-4a1a-a8f1-60021be427da",
   "metadata": {},
   "source": [
    "# *Data Cleaning*"
   ]
  },
  {
   "cell_type": "markdown",
   "id": "286b5667-86ee-4d48-a92e-dbeb72edc486",
   "metadata": {},
   "source": [
    "# To fillin null age with median"
   ]
  },
  {
   "cell_type": "code",
   "execution_count": 54,
   "id": "d3fbd12e-d640-4e27-ba67-b46acef3718d",
   "metadata": {},
   "outputs": [],
   "source": [
    "median_age = ''' UPDATE records SET customer_age =(\n",
    "                SELECT percentile_cont(0.5) WITHIN GROUP (ORDER BY customer_age)\n",
    "                FROM records)\n",
    "                WHERE customer_age IS NULL;\n",
    "            '''\n",
    "cur.execute(median_age)\n",
    "# Commit the changes and close the connection\n",
    "conn.commit()"
   ]
  },
  {
   "cell_type": "markdown",
   "id": "6f20c0a5-cd9c-4431-a569-d0acfea005bd",
   "metadata": {},
   "source": [
    "# customer_age null value to check"
   ]
  },
  {
   "cell_type": "code",
   "execution_count": 60,
   "id": "0462899d-c2df-4555-baad-93b0992ec936",
   "metadata": {},
   "outputs": [
    {
     "data": {
      "text/plain": [
       "'Not Found'"
      ]
     },
     "execution_count": 60,
     "metadata": {},
     "output_type": "execute_result"
    }
   ],
   "source": [
    "customer_age = null_check(column_name=\"customer_age\")\n",
    "customer_age"
   ]
  },
  {
   "cell_type": "markdown",
   "id": "be61707b-ae1c-48fb-8d18-4fa0c597e692",
   "metadata": {},
   "source": [
    "# Update null payment_method with Cash because the number is small"
   ]
  },
  {
   "cell_type": "code",
   "execution_count": 72,
   "id": "294f79a7-8f53-4f43-89e8-f4c5f8e68fa3",
   "metadata": {},
   "outputs": [],
   "source": [
    "payment_method = ''' UPDATE records SET payment_method = 'Cash'\n",
    "                    WHERE payment_method IS NULL;\n",
    "                '''\n",
    "cur.execute(payment_method)\n",
    "# Commit the changes and close the connection\n",
    "conn.commit()"
   ]
  },
  {
   "cell_type": "code",
   "execution_count": 80,
   "id": "97712b21-bfb7-458b-b3a3-cd23c47b86d7",
   "metadata": {},
   "outputs": [
    {
     "data": {
      "text/plain": [
       "'Not Found'"
      ]
     },
     "execution_count": 80,
     "metadata": {},
     "output_type": "execute_result"
    }
   ],
   "source": [
    "payment_method = null_check(column_name=\"payment_method\")\n",
    "payment_method"
   ]
  },
  {
   "cell_type": "markdown",
   "id": "c2630609-6b54-4bf1-9503-18a6947dea95",
   "metadata": {},
   "source": [
    "# Update notes column rename to special_handling \n",
    "# with boolean data type"
   ]
  },
  {
   "cell_type": "code",
   "execution_count": 81,
   "id": "aa851126-4d4f-49d6-a990-51aafb4ee0c0",
   "metadata": {},
   "outputs": [],
   "source": [
    "notes_query =''' UPDATE records SET notes = true where notes IS NOT NULL;\n",
    "            '''\n",
    "cur.execute(notes_query)\n",
    "# Commit the changes and close the connection\n",
    "conn.commit()"
   ]
  },
  {
   "cell_type": "code",
   "execution_count": 82,
   "id": "1a7ce31b-6cfe-4bbc-8c8f-1b7dfa703734",
   "metadata": {},
   "outputs": [],
   "source": [
    "notes2_query =''' UPDATE records SET notes = false where notes IS NULL;\n",
    "            '''\n",
    "cur.execute(notes2_query)\n",
    "# Commit the changes and close the connection\n",
    "conn.commit()"
   ]
  },
  {
   "cell_type": "code",
   "execution_count": 87,
   "id": "18f7d1ec-12dc-4f18-8b1f-0c9975f8239f",
   "metadata": {},
   "outputs": [],
   "source": [
    "special_handling = ''' ALTER TABLE records RENAME COLUMN notes TO special_handling;\n",
    "                '''\n",
    "cur.execute(special_handling)\n",
    "# Commit the changes and close the connection\n",
    "conn.commit()"
   ]
  },
  {
   "cell_type": "markdown",
   "id": "516d64d1-ad81-47fb-9628-8833425abc57",
   "metadata": {},
   "source": [
    "# Checking notes to special_handling"
   ]
  },
  {
   "cell_type": "code",
   "execution_count": 88,
   "id": "2ca0960a-9711-4baf-a048-3b5cfa584eba",
   "metadata": {},
   "outputs": [
    {
     "data": {
      "text/plain": [
       "[('false', 913), ('true', 87)]"
      ]
     },
     "execution_count": 88,
     "metadata": {},
     "output_type": "execute_result"
    }
   ],
   "source": [
    "sp_handling = ''' SELECT special_handling, count(special_handling) FROM records\n",
    "                GROUP BY special_handling ORDER BY count(special_handling) DESC;\n",
    "            '''\n",
    "cur.execute(sp_handling)\n",
    "sp_handling_result = cur.fetchall()\n",
    "sp_handling_result"
   ]
  },
  {
   "cell_type": "markdown",
   "id": "2d8ec205-cf24-438d-8316-bd105dd80da6",
   "metadata": {},
   "source": [
    "# *Generate Business Insight*"
   ]
  },
  {
   "cell_type": "markdown",
   "id": "4dec0314-01c2-46a6-9ec5-0499646a3359",
   "metadata": {},
   "source": [
    "# 1. Best Selling Item"
   ]
  },
  {
   "cell_type": "code",
   "execution_count": 89,
   "id": "3bb3cda6-fc5f-44a2-ba45-212f15486573",
   "metadata": {},
   "outputs": [
    {
     "data": {
      "text/plain": [
       "[('SSD', Decimal('524134.23')),\n",
       " ('CPU', Decimal('483523.42')),\n",
       " ('Webcam', Decimal('460301.27')),\n",
       " ('Keyboard', Decimal('436591.17')),\n",
       " ('Mouse', Decimal('407695.41'))]"
      ]
     },
     "execution_count": 89,
     "metadata": {},
     "output_type": "execute_result"
    }
   ],
   "source": [
    "best_selling_item = ''' SELECT item_name, sum(total_price) FROM records\n",
    "                        GROUP BY item_name ORDER BY sum(total_price) DESC LIMIT 5;\n",
    "                    '''\n",
    "cur.execute(best_selling_item)\n",
    "best_selling_item_result = cur.fetchall()\n",
    "best_selling_item_result"
   ]
  },
  {
   "cell_type": "code",
   "execution_count": 108,
   "id": "37bfdd34-35f1-4642-88b5-94eacdea16b4",
   "metadata": {},
   "outputs": [
    {
     "data": {
      "text/html": [
       "<div>\n",
       "<style scoped>\n",
       "    .dataframe tbody tr th:only-of-type {\n",
       "        vertical-align: middle;\n",
       "    }\n",
       "\n",
       "    .dataframe tbody tr th {\n",
       "        vertical-align: top;\n",
       "    }\n",
       "\n",
       "    .dataframe thead tr th {\n",
       "        text-align: left;\n",
       "    }\n",
       "</style>\n",
       "<table border=\"1\" class=\"dataframe\">\n",
       "  <thead>\n",
       "    <tr>\n",
       "      <th></th>\n",
       "      <th>item_sale</th>\n",
       "      <th>total_price</th>\n",
       "    </tr>\n",
       "  </thead>\n",
       "  <tbody>\n",
       "    <tr>\n",
       "      <th>0</th>\n",
       "      <td>SSD</td>\n",
       "      <td>524134.23</td>\n",
       "    </tr>\n",
       "    <tr>\n",
       "      <th>1</th>\n",
       "      <td>CPU</td>\n",
       "      <td>483523.42</td>\n",
       "    </tr>\n",
       "    <tr>\n",
       "      <th>2</th>\n",
       "      <td>Webcam</td>\n",
       "      <td>460301.27</td>\n",
       "    </tr>\n",
       "    <tr>\n",
       "      <th>3</th>\n",
       "      <td>Keyboard</td>\n",
       "      <td>436591.17</td>\n",
       "    </tr>\n",
       "    <tr>\n",
       "      <th>4</th>\n",
       "      <td>Mouse</td>\n",
       "      <td>407695.41</td>\n",
       "    </tr>\n",
       "  </tbody>\n",
       "</table>\n",
       "</div>"
      ],
      "text/plain": [
       "  item_sale total_price\n",
       "0       SSD   524134.23\n",
       "1       CPU   483523.42\n",
       "2    Webcam   460301.27\n",
       "3  Keyboard   436591.17\n",
       "4     Mouse   407695.41"
      ]
     },
     "execution_count": 108,
     "metadata": {},
     "output_type": "execute_result"
    }
   ],
   "source": [
    "df_best_selling_item = pd.DataFrame(best_selling_item_result, columns=[[\"item_sale\",\"total_price\"]])\n",
    "df_best_selling_item"
   ]
  },
  {
   "cell_type": "markdown",
   "id": "fb3b5c72-3cc5-4b90-9c00-aca3e2216d32",
   "metadata": {},
   "source": [
    "# 2. Sales Distribution By Age"
   ]
  },
  {
   "cell_type": "code",
   "execution_count": 105,
   "id": "75d0047e-6d35-4018-ae2f-e58e61be3b1e",
   "metadata": {},
   "outputs": [
    {
     "data": {
      "text/plain": [
       "[('18-24', 107),\n",
       " ('25-34', 166),\n",
       " ('35-49', 377),\n",
       " ('50-64', 247),\n",
       " ('65-99', 103)]"
      ]
     },
     "execution_count": 105,
     "metadata": {},
     "output_type": "execute_result"
    }
   ],
   "source": [
    "sale_distribution_age = '''\n",
    "    SELECT\n",
    "        CASE\n",
    "            WHEN customer_age IS NULL THEN 'Other/Unknown'\n",
    "            WHEN (customer_age)::INT >= 0 AND (customer_age)::INT < 18 THEN '0-17'\n",
    "            WHEN (customer_age)::INT >= 18 AND (customer_age)::INT < 25 THEN '18-24'\n",
    "            WHEN (customer_age)::INT >= 25 AND (customer_age)::INT < 35 THEN '25-34'\n",
    "            WHEN (customer_age)::INT >= 35 AND (customer_age)::INT < 50 THEN '35-49'\n",
    "            WHEN (customer_age)::INT >= 50 AND (customer_age)::INT < 65 THEN '50-64'\n",
    "            WHEN (customer_age)::INT >= 65 AND (customer_age)::INT < 100 THEN '65-99'\n",
    "            ELSE 'Other/Unknown'\n",
    "        END AS age_group,\n",
    "        COUNT(*) AS total_price\n",
    "    FROM\n",
    "        records\n",
    "    GROUP BY\n",
    "        age_group\n",
    "    ORDER BY\n",
    "        age_group;\n",
    "    '''\n",
    "cur.execute(sale_distribution_age)\n",
    "sale_distribution_age_result = cur.fetchall()\n",
    "sale_distribution_age_result"
   ]
  },
  {
   "cell_type": "code",
   "execution_count": 109,
   "id": "395aae0d-f713-41ff-abb2-1ea3b5ed6153",
   "metadata": {},
   "outputs": [
    {
     "data": {
      "text/html": [
       "<div>\n",
       "<style scoped>\n",
       "    .dataframe tbody tr th:only-of-type {\n",
       "        vertical-align: middle;\n",
       "    }\n",
       "\n",
       "    .dataframe tbody tr th {\n",
       "        vertical-align: top;\n",
       "    }\n",
       "\n",
       "    .dataframe thead tr th {\n",
       "        text-align: left;\n",
       "    }\n",
       "</style>\n",
       "<table border=\"1\" class=\"dataframe\">\n",
       "  <thead>\n",
       "    <tr>\n",
       "      <th></th>\n",
       "      <th>age_group</th>\n",
       "      <th>total_price</th>\n",
       "    </tr>\n",
       "  </thead>\n",
       "  <tbody>\n",
       "    <tr>\n",
       "      <th>0</th>\n",
       "      <td>18-24</td>\n",
       "      <td>107</td>\n",
       "    </tr>\n",
       "    <tr>\n",
       "      <th>1</th>\n",
       "      <td>25-34</td>\n",
       "      <td>166</td>\n",
       "    </tr>\n",
       "    <tr>\n",
       "      <th>2</th>\n",
       "      <td>35-49</td>\n",
       "      <td>377</td>\n",
       "    </tr>\n",
       "    <tr>\n",
       "      <th>3</th>\n",
       "      <td>50-64</td>\n",
       "      <td>247</td>\n",
       "    </tr>\n",
       "    <tr>\n",
       "      <th>4</th>\n",
       "      <td>65-99</td>\n",
       "      <td>103</td>\n",
       "    </tr>\n",
       "  </tbody>\n",
       "</table>\n",
       "</div>"
      ],
      "text/plain": [
       "  age_group total_price\n",
       "0     18-24         107\n",
       "1     25-34         166\n",
       "2     35-49         377\n",
       "3     50-64         247\n",
       "4     65-99         103"
      ]
     },
     "execution_count": 109,
     "metadata": {},
     "output_type": "execute_result"
    }
   ],
   "source": [
    "df_sale_distribution_age = pd.DataFrame(sale_distribution_age_result, columns=[[\"age_group\",\"total_price\"]])\n",
    "df_sale_distribution_age"
   ]
  },
  {
   "cell_type": "markdown",
   "id": "8ee05e21-7d20-4db5-9d58-694994ea3c62",
   "metadata": {},
   "source": [
    "# 3. Sales Distribution By Region"
   ]
  },
  {
   "cell_type": "code",
   "execution_count": 113,
   "id": "d82e9fa7-3d6a-4a46-abc1-41b642ffffde",
   "metadata": {},
   "outputs": [
    {
     "data": {
      "text/plain": [
       "[('Central', Decimal('931008.98')),\n",
       " ('South', Decimal('900212.94')),\n",
       " ('North', Decimal('831611.66')),\n",
       " ('West', Decimal('797602.12')),\n",
       " ('East', Decimal('785278.18'))]"
      ]
     },
     "execution_count": 113,
     "metadata": {},
     "output_type": "execute_result"
    }
   ],
   "source": [
    "sales_by_region = ''' SELECT region, sum(total_price) FROM records\n",
    "                    GROUP BY region ORDER BY sum(total_price) DESC;\n",
    "                '''\n",
    "cur.execute(sales_by_region)\n",
    "sales_by_region_result = cur.fetchall()\n",
    "sales_by_region_result"
   ]
  },
  {
   "cell_type": "code",
   "execution_count": 115,
   "id": "bce04985-8fcf-45a4-b798-e8bbb07a96ad",
   "metadata": {},
   "outputs": [
    {
     "data": {
      "text/html": [
       "<div>\n",
       "<style scoped>\n",
       "    .dataframe tbody tr th:only-of-type {\n",
       "        vertical-align: middle;\n",
       "    }\n",
       "\n",
       "    .dataframe tbody tr th {\n",
       "        vertical-align: top;\n",
       "    }\n",
       "\n",
       "    .dataframe thead tr th {\n",
       "        text-align: left;\n",
       "    }\n",
       "</style>\n",
       "<table border=\"1\" class=\"dataframe\">\n",
       "  <thead>\n",
       "    <tr>\n",
       "      <th></th>\n",
       "      <th>region</th>\n",
       "      <th>total_price</th>\n",
       "    </tr>\n",
       "  </thead>\n",
       "  <tbody>\n",
       "    <tr>\n",
       "      <th>0</th>\n",
       "      <td>Central</td>\n",
       "      <td>931008.98</td>\n",
       "    </tr>\n",
       "    <tr>\n",
       "      <th>1</th>\n",
       "      <td>South</td>\n",
       "      <td>900212.94</td>\n",
       "    </tr>\n",
       "    <tr>\n",
       "      <th>2</th>\n",
       "      <td>North</td>\n",
       "      <td>831611.66</td>\n",
       "    </tr>\n",
       "    <tr>\n",
       "      <th>3</th>\n",
       "      <td>West</td>\n",
       "      <td>797602.12</td>\n",
       "    </tr>\n",
       "    <tr>\n",
       "      <th>4</th>\n",
       "      <td>East</td>\n",
       "      <td>785278.18</td>\n",
       "    </tr>\n",
       "  </tbody>\n",
       "</table>\n",
       "</div>"
      ],
      "text/plain": [
       "    region total_price\n",
       "0  Central   931008.98\n",
       "1    South   900212.94\n",
       "2    North   831611.66\n",
       "3     West   797602.12\n",
       "4     East   785278.18"
      ]
     },
     "execution_count": 115,
     "metadata": {},
     "output_type": "execute_result"
    }
   ],
   "source": [
    "df_sales_by_region_result = pd.DataFrame(sales_by_region_result, columns=[[\"region\",\"total_price\"]])\n",
    "df_sales_by_region_result"
   ]
  },
  {
   "cell_type": "markdown",
   "id": "bc8db144-52ef-4d7b-8c4b-5b462635cf08",
   "metadata": {},
   "source": [
    "# 4. Status Transaction Breakdown"
   ]
  },
  {
   "cell_type": "code",
   "execution_count": 119,
   "id": "435247aa-8482-4018-9f42-d506b15021dc",
   "metadata": {},
   "outputs": [
    {
     "data": {
      "text/plain": [
       "[('Pending', Decimal('1200341.40')),\n",
       " ('Completed', Decimal('1072176.02')),\n",
       " ('Cancelled', Decimal('998244.37')),\n",
       " ('Refunded', Decimal('974952.09'))]"
      ]
     },
     "execution_count": 119,
     "metadata": {},
     "output_type": "execute_result"
    }
   ],
   "source": [
    "status_query = ''' SELECT status, SUM(total_price) FROM records\n",
    "                GROUP BY status ORDER BY SUM(total_price) DESC;\n",
    "            '''\n",
    "cur.execute(status_query)\n",
    "status_query_result = cur.fetchall()\n",
    "status_query_result"
   ]
  },
  {
   "cell_type": "code",
   "execution_count": 120,
   "id": "1f78fb14-46b8-4bcc-abb9-c1d22b3c020d",
   "metadata": {},
   "outputs": [
    {
     "data": {
      "text/html": [
       "<div>\n",
       "<style scoped>\n",
       "    .dataframe tbody tr th:only-of-type {\n",
       "        vertical-align: middle;\n",
       "    }\n",
       "\n",
       "    .dataframe tbody tr th {\n",
       "        vertical-align: top;\n",
       "    }\n",
       "\n",
       "    .dataframe thead tr th {\n",
       "        text-align: left;\n",
       "    }\n",
       "</style>\n",
       "<table border=\"1\" class=\"dataframe\">\n",
       "  <thead>\n",
       "    <tr>\n",
       "      <th></th>\n",
       "      <th>status</th>\n",
       "      <th>total_price</th>\n",
       "    </tr>\n",
       "  </thead>\n",
       "  <tbody>\n",
       "    <tr>\n",
       "      <th>0</th>\n",
       "      <td>Pending</td>\n",
       "      <td>1200341.40</td>\n",
       "    </tr>\n",
       "    <tr>\n",
       "      <th>1</th>\n",
       "      <td>Completed</td>\n",
       "      <td>1072176.02</td>\n",
       "    </tr>\n",
       "    <tr>\n",
       "      <th>2</th>\n",
       "      <td>Cancelled</td>\n",
       "      <td>998244.37</td>\n",
       "    </tr>\n",
       "    <tr>\n",
       "      <th>3</th>\n",
       "      <td>Refunded</td>\n",
       "      <td>974952.09</td>\n",
       "    </tr>\n",
       "  </tbody>\n",
       "</table>\n",
       "</div>"
      ],
      "text/plain": [
       "      status total_price\n",
       "0    Pending  1200341.40\n",
       "1  Completed  1072176.02\n",
       "2  Cancelled   998244.37\n",
       "3   Refunded   974952.09"
      ]
     },
     "execution_count": 120,
     "metadata": {},
     "output_type": "execute_result"
    }
   ],
   "source": [
    "df_status_query_result = pd.DataFrame(status_query_result, columns=[[\"status\",\"total_price\"]])\n",
    "df_status_query_result"
   ]
  },
  {
   "cell_type": "markdown",
   "id": "cd281312-a52f-4477-938d-d867af62304a",
   "metadata": {},
   "source": [
    "# 5. Payment Method To Total Sale"
   ]
  },
  {
   "cell_type": "code",
   "execution_count": 121,
   "id": "86b564c0-39d0-4bbc-8750-26477cd2db36",
   "metadata": {},
   "outputs": [
    {
     "data": {
      "text/plain": [
       "[('Bank Transfer', Decimal('929087.61')),\n",
       " ('Cash', Decimal('857847.60')),\n",
       " ('Crypto', Decimal('845416.68')),\n",
       " ('PayPal', Decimal('817803.41')),\n",
       " ('Credit Card', Decimal('795558.58'))]"
      ]
     },
     "execution_count": 121,
     "metadata": {},
     "output_type": "execute_result"
    }
   ],
   "source": [
    "payment_query = ''' SELECT payment_method, SUM(total_price) FROM records\n",
    "                GROUP BY payment_method ORDER BY SUM(total_price) DESC;\n",
    "            '''\n",
    "cur.execute(payment_query)\n",
    "payment_query_result = cur.fetchall()\n",
    "payment_query_result"
   ]
  },
  {
   "cell_type": "code",
   "execution_count": 122,
   "id": "1ba2afc0-9386-4d88-8300-3a52e3044591",
   "metadata": {},
   "outputs": [
    {
     "data": {
      "text/html": [
       "<div>\n",
       "<style scoped>\n",
       "    .dataframe tbody tr th:only-of-type {\n",
       "        vertical-align: middle;\n",
       "    }\n",
       "\n",
       "    .dataframe tbody tr th {\n",
       "        vertical-align: top;\n",
       "    }\n",
       "\n",
       "    .dataframe thead tr th {\n",
       "        text-align: left;\n",
       "    }\n",
       "</style>\n",
       "<table border=\"1\" class=\"dataframe\">\n",
       "  <thead>\n",
       "    <tr>\n",
       "      <th></th>\n",
       "      <th>payment_method</th>\n",
       "      <th>total_price</th>\n",
       "    </tr>\n",
       "  </thead>\n",
       "  <tbody>\n",
       "    <tr>\n",
       "      <th>0</th>\n",
       "      <td>Bank Transfer</td>\n",
       "      <td>929087.61</td>\n",
       "    </tr>\n",
       "    <tr>\n",
       "      <th>1</th>\n",
       "      <td>Cash</td>\n",
       "      <td>857847.60</td>\n",
       "    </tr>\n",
       "    <tr>\n",
       "      <th>2</th>\n",
       "      <td>Crypto</td>\n",
       "      <td>845416.68</td>\n",
       "    </tr>\n",
       "    <tr>\n",
       "      <th>3</th>\n",
       "      <td>PayPal</td>\n",
       "      <td>817803.41</td>\n",
       "    </tr>\n",
       "    <tr>\n",
       "      <th>4</th>\n",
       "      <td>Credit Card</td>\n",
       "      <td>795558.58</td>\n",
       "    </tr>\n",
       "  </tbody>\n",
       "</table>\n",
       "</div>"
      ],
      "text/plain": [
       "  payment_method total_price\n",
       "0  Bank Transfer   929087.61\n",
       "1           Cash   857847.60\n",
       "2         Crypto   845416.68\n",
       "3         PayPal   817803.41\n",
       "4    Credit Card   795558.58"
      ]
     },
     "execution_count": 122,
     "metadata": {},
     "output_type": "execute_result"
    }
   ],
   "source": [
    "df_payment_query_result = pd.DataFrame(payment_query_result, columns=[[\"payment_method\",\"total_price\"]])\n",
    "df_payment_query_result"
   ]
  },
  {
   "cell_type": "code",
   "execution_count": 123,
   "id": "0cfa9fd6-741e-4f92-b57f-a5d01ae3a828",
   "metadata": {},
   "outputs": [],
   "source": [
    "cur.close()"
   ]
  },
  {
   "cell_type": "code",
   "execution_count": 124,
   "id": "6aa38d9d-bc31-44ea-8689-187395141c08",
   "metadata": {},
   "outputs": [],
   "source": [
    "conn.close()"
   ]
  }
 ],
 "metadata": {
  "kernelspec": {
   "display_name": "Python 3 (ipykernel)",
   "language": "python",
   "name": "python3"
  },
  "language_info": {
   "codemirror_mode": {
    "name": "ipython",
    "version": 3
   },
   "file_extension": ".py",
   "mimetype": "text/x-python",
   "name": "python",
   "nbconvert_exporter": "python",
   "pygments_lexer": "ipython3",
   "version": "3.12.3"
  }
 },
 "nbformat": 4,
 "nbformat_minor": 5
}
